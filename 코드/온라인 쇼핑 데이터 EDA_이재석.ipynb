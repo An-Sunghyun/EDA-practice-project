{
 "cells": [
  {
   "cell_type": "code",
   "execution_count": 3,
   "metadata": {},
   "outputs": [
    {
     "data": {
      "text/html": [
       "<div>\n",
       "<style scoped>\n",
       "    .dataframe tbody tr th:only-of-type {\n",
       "        vertical-align: middle;\n",
       "    }\n",
       "\n",
       "    .dataframe tbody tr th {\n",
       "        vertical-align: top;\n",
       "    }\n",
       "\n",
       "    .dataframe thead th {\n",
       "        text-align: right;\n",
       "    }\n",
       "</style>\n",
       "<table border=\"1\" class=\"dataframe\">\n",
       "  <thead>\n",
       "    <tr style=\"text-align: right;\">\n",
       "      <th></th>\n",
       "      <th>Transaction_date</th>\n",
       "      <th>Transaction_ID</th>\n",
       "      <th>Gender</th>\n",
       "      <th>Age</th>\n",
       "      <th>Marital_status</th>\n",
       "      <th>State_names</th>\n",
       "      <th>Segment</th>\n",
       "      <th>Employees_status</th>\n",
       "      <th>Payment_method</th>\n",
       "      <th>Referal</th>\n",
       "      <th>Amount_spent</th>\n",
       "    </tr>\n",
       "  </thead>\n",
       "  <tbody>\n",
       "    <tr>\n",
       "      <th>0</th>\n",
       "      <td>1/1/2019</td>\n",
       "      <td>151200</td>\n",
       "      <td>Female</td>\n",
       "      <td>19.0</td>\n",
       "      <td>Single</td>\n",
       "      <td>Kansas</td>\n",
       "      <td>Basic</td>\n",
       "      <td>Unemployment</td>\n",
       "      <td>Other</td>\n",
       "      <td>1.0</td>\n",
       "      <td>2051.36</td>\n",
       "    </tr>\n",
       "    <tr>\n",
       "      <th>1</th>\n",
       "      <td>1/1/2019</td>\n",
       "      <td>151201</td>\n",
       "      <td>Male</td>\n",
       "      <td>49.0</td>\n",
       "      <td>Single</td>\n",
       "      <td>Illinois</td>\n",
       "      <td>Basic</td>\n",
       "      <td>self-employed</td>\n",
       "      <td>Card</td>\n",
       "      <td>0.0</td>\n",
       "      <td>544.04</td>\n",
       "    </tr>\n",
       "    <tr>\n",
       "      <th>2</th>\n",
       "      <td>1/1/2019</td>\n",
       "      <td>151202</td>\n",
       "      <td>Male</td>\n",
       "      <td>63.0</td>\n",
       "      <td>Married</td>\n",
       "      <td>New Mexico</td>\n",
       "      <td>Basic</td>\n",
       "      <td>workers</td>\n",
       "      <td>PayPal</td>\n",
       "      <td>1.0</td>\n",
       "      <td>1572.60</td>\n",
       "    </tr>\n",
       "    <tr>\n",
       "      <th>3</th>\n",
       "      <td>1/1/2019</td>\n",
       "      <td>151203</td>\n",
       "      <td>NaN</td>\n",
       "      <td>18.0</td>\n",
       "      <td>Single</td>\n",
       "      <td>Virginia</td>\n",
       "      <td>Platinum</td>\n",
       "      <td>workers</td>\n",
       "      <td>Card</td>\n",
       "      <td>1.0</td>\n",
       "      <td>1199.79</td>\n",
       "    </tr>\n",
       "    <tr>\n",
       "      <th>4</th>\n",
       "      <td>1/1/2019</td>\n",
       "      <td>151204</td>\n",
       "      <td>Male</td>\n",
       "      <td>27.0</td>\n",
       "      <td>Single</td>\n",
       "      <td>Connecticut</td>\n",
       "      <td>Basic</td>\n",
       "      <td>self-employed</td>\n",
       "      <td>Card</td>\n",
       "      <td>0.0</td>\n",
       "      <td>NaN</td>\n",
       "    </tr>\n",
       "    <tr>\n",
       "      <th>...</th>\n",
       "      <td>...</td>\n",
       "      <td>...</td>\n",
       "      <td>...</td>\n",
       "      <td>...</td>\n",
       "      <td>...</td>\n",
       "      <td>...</td>\n",
       "      <td>...</td>\n",
       "      <td>...</td>\n",
       "      <td>...</td>\n",
       "      <td>...</td>\n",
       "      <td>...</td>\n",
       "    </tr>\n",
       "    <tr>\n",
       "      <th>2507</th>\n",
       "      <td>5/1/2021</td>\n",
       "      <td>153695</td>\n",
       "      <td>Female</td>\n",
       "      <td>57.0</td>\n",
       "      <td>Single</td>\n",
       "      <td>South Carolina</td>\n",
       "      <td>Platinum</td>\n",
       "      <td>self-employed</td>\n",
       "      <td>Card</td>\n",
       "      <td>0.0</td>\n",
       "      <td>150.10</td>\n",
       "    </tr>\n",
       "    <tr>\n",
       "      <th>2508</th>\n",
       "      <td>5/1/2021</td>\n",
       "      <td>153696</td>\n",
       "      <td>Female</td>\n",
       "      <td>36.0</td>\n",
       "      <td>Married</td>\n",
       "      <td>Hawaii</td>\n",
       "      <td>Silver</td>\n",
       "      <td>self-employed</td>\n",
       "      <td>PayPal</td>\n",
       "      <td>1.0</td>\n",
       "      <td>708.88</td>\n",
       "    </tr>\n",
       "    <tr>\n",
       "      <th>2509</th>\n",
       "      <td>5/1/2021</td>\n",
       "      <td>153697</td>\n",
       "      <td>Male</td>\n",
       "      <td>22.0</td>\n",
       "      <td>Single</td>\n",
       "      <td>South Carolina</td>\n",
       "      <td>Basic</td>\n",
       "      <td>workers</td>\n",
       "      <td>PayPal</td>\n",
       "      <td>1.0</td>\n",
       "      <td>2030.07</td>\n",
       "    </tr>\n",
       "    <tr>\n",
       "      <th>2510</th>\n",
       "      <td>5/1/2021</td>\n",
       "      <td>153698</td>\n",
       "      <td>NaN</td>\n",
       "      <td>44.0</td>\n",
       "      <td>Single</td>\n",
       "      <td>New York</td>\n",
       "      <td>Basic</td>\n",
       "      <td>Employees</td>\n",
       "      <td>PayPal</td>\n",
       "      <td>0.0</td>\n",
       "      <td>1909.77</td>\n",
       "    </tr>\n",
       "    <tr>\n",
       "      <th>2511</th>\n",
       "      <td>5/1/2021</td>\n",
       "      <td>153699</td>\n",
       "      <td>Male</td>\n",
       "      <td>48.0</td>\n",
       "      <td>Single</td>\n",
       "      <td>California</td>\n",
       "      <td>Silver</td>\n",
       "      <td>workers</td>\n",
       "      <td>PayPal</td>\n",
       "      <td>1.0</td>\n",
       "      <td>1073.15</td>\n",
       "    </tr>\n",
       "  </tbody>\n",
       "</table>\n",
       "<p>2512 rows × 11 columns</p>\n",
       "</div>"
      ],
      "text/plain": [
       "     Transaction_date  Transaction_ID  Gender   Age Marital_status  \\\n",
       "0            1/1/2019          151200  Female  19.0         Single   \n",
       "1            1/1/2019          151201    Male  49.0         Single   \n",
       "2            1/1/2019          151202    Male  63.0        Married   \n",
       "3            1/1/2019          151203     NaN  18.0         Single   \n",
       "4            1/1/2019          151204    Male  27.0         Single   \n",
       "...               ...             ...     ...   ...            ...   \n",
       "2507         5/1/2021          153695  Female  57.0         Single   \n",
       "2508         5/1/2021          153696  Female  36.0        Married   \n",
       "2509         5/1/2021          153697    Male  22.0         Single   \n",
       "2510         5/1/2021          153698     NaN  44.0         Single   \n",
       "2511         5/1/2021          153699    Male  48.0         Single   \n",
       "\n",
       "         State_names   Segment Employees_status Payment_method  Referal  \\\n",
       "0             Kansas     Basic     Unemployment          Other      1.0   \n",
       "1           Illinois     Basic    self-employed           Card      0.0   \n",
       "2         New Mexico     Basic          workers         PayPal      1.0   \n",
       "3           Virginia  Platinum          workers           Card      1.0   \n",
       "4        Connecticut     Basic    self-employed           Card      0.0   \n",
       "...              ...       ...              ...            ...      ...   \n",
       "2507  South Carolina  Platinum    self-employed           Card      0.0   \n",
       "2508          Hawaii    Silver    self-employed         PayPal      1.0   \n",
       "2509  South Carolina     Basic          workers         PayPal      1.0   \n",
       "2510        New York     Basic        Employees         PayPal      0.0   \n",
       "2511      California    Silver          workers         PayPal      1.0   \n",
       "\n",
       "      Amount_spent  \n",
       "0          2051.36  \n",
       "1           544.04  \n",
       "2          1572.60  \n",
       "3          1199.79  \n",
       "4              NaN  \n",
       "...            ...  \n",
       "2507        150.10  \n",
       "2508        708.88  \n",
       "2509       2030.07  \n",
       "2510       1909.77  \n",
       "2511       1073.15  \n",
       "\n",
       "[2512 rows x 11 columns]"
      ]
     },
     "execution_count": 3,
     "metadata": {},
     "output_type": "execute_result"
    }
   ],
   "source": [
    "import pandas as pd\n",
    "import numpy as np\n",
    "import matplotlib.pyplot as plt\n",
    "plt.rcParams['font.family'] = 'AppleGothic'\n",
    "%matplotlib inline\n",
    "\n",
    "# 데이터셋 불러오기\n",
    "cd = pd.read_csv(\"/Users/BigData/Python/프로젝트1/online_store_customer_data.csv\")\n",
    "cd"
   ]
  },
  {
   "cell_type": "code",
   "execution_count": 4,
   "metadata": {},
   "outputs": [
    {
     "data": {
      "text/html": [
       "<div>\n",
       "<style scoped>\n",
       "    .dataframe tbody tr th:only-of-type {\n",
       "        vertical-align: middle;\n",
       "    }\n",
       "\n",
       "    .dataframe tbody tr th {\n",
       "        vertical-align: top;\n",
       "    }\n",
       "\n",
       "    .dataframe thead th {\n",
       "        text-align: right;\n",
       "    }\n",
       "</style>\n",
       "<table border=\"1\" class=\"dataframe\">\n",
       "  <thead>\n",
       "    <tr style=\"text-align: right;\">\n",
       "      <th></th>\n",
       "      <th>Transaction_date</th>\n",
       "      <th>Gender</th>\n",
       "      <th>Age</th>\n",
       "      <th>Marital_status</th>\n",
       "      <th>Segment</th>\n",
       "      <th>Employees_status</th>\n",
       "      <th>Amount_spent</th>\n",
       "    </tr>\n",
       "  </thead>\n",
       "  <tbody>\n",
       "    <tr>\n",
       "      <th>0</th>\n",
       "      <td>1/1/2019</td>\n",
       "      <td>Female</td>\n",
       "      <td>19.0</td>\n",
       "      <td>Single</td>\n",
       "      <td>Basic</td>\n",
       "      <td>Unemployment</td>\n",
       "      <td>2051.36</td>\n",
       "    </tr>\n",
       "    <tr>\n",
       "      <th>1</th>\n",
       "      <td>1/1/2019</td>\n",
       "      <td>Male</td>\n",
       "      <td>49.0</td>\n",
       "      <td>Single</td>\n",
       "      <td>Basic</td>\n",
       "      <td>self-employed</td>\n",
       "      <td>544.04</td>\n",
       "    </tr>\n",
       "    <tr>\n",
       "      <th>2</th>\n",
       "      <td>1/1/2019</td>\n",
       "      <td>Male</td>\n",
       "      <td>63.0</td>\n",
       "      <td>Married</td>\n",
       "      <td>Basic</td>\n",
       "      <td>workers</td>\n",
       "      <td>1572.60</td>\n",
       "    </tr>\n",
       "    <tr>\n",
       "      <th>5</th>\n",
       "      <td>1/3/2019</td>\n",
       "      <td>Male</td>\n",
       "      <td>71.0</td>\n",
       "      <td>Single</td>\n",
       "      <td>Basic</td>\n",
       "      <td>Employees</td>\n",
       "      <td>2922.66</td>\n",
       "    </tr>\n",
       "    <tr>\n",
       "      <th>6</th>\n",
       "      <td>1/3/2019</td>\n",
       "      <td>Female</td>\n",
       "      <td>34.0</td>\n",
       "      <td>Married</td>\n",
       "      <td>Platinum</td>\n",
       "      <td>Employees</td>\n",
       "      <td>1481.42</td>\n",
       "    </tr>\n",
       "    <tr>\n",
       "      <th>...</th>\n",
       "      <td>...</td>\n",
       "      <td>...</td>\n",
       "      <td>...</td>\n",
       "      <td>...</td>\n",
       "      <td>...</td>\n",
       "      <td>...</td>\n",
       "      <td>...</td>\n",
       "    </tr>\n",
       "    <tr>\n",
       "      <th>2506</th>\n",
       "      <td>4/30/2021</td>\n",
       "      <td>Male</td>\n",
       "      <td>34.0</td>\n",
       "      <td>Single</td>\n",
       "      <td>Missing</td>\n",
       "      <td>Employees</td>\n",
       "      <td>286.82</td>\n",
       "    </tr>\n",
       "    <tr>\n",
       "      <th>2507</th>\n",
       "      <td>5/1/2021</td>\n",
       "      <td>Female</td>\n",
       "      <td>57.0</td>\n",
       "      <td>Single</td>\n",
       "      <td>Platinum</td>\n",
       "      <td>self-employed</td>\n",
       "      <td>150.10</td>\n",
       "    </tr>\n",
       "    <tr>\n",
       "      <th>2508</th>\n",
       "      <td>5/1/2021</td>\n",
       "      <td>Female</td>\n",
       "      <td>36.0</td>\n",
       "      <td>Married</td>\n",
       "      <td>Silver</td>\n",
       "      <td>self-employed</td>\n",
       "      <td>708.88</td>\n",
       "    </tr>\n",
       "    <tr>\n",
       "      <th>2509</th>\n",
       "      <td>5/1/2021</td>\n",
       "      <td>Male</td>\n",
       "      <td>22.0</td>\n",
       "      <td>Single</td>\n",
       "      <td>Basic</td>\n",
       "      <td>workers</td>\n",
       "      <td>2030.07</td>\n",
       "    </tr>\n",
       "    <tr>\n",
       "      <th>2511</th>\n",
       "      <td>5/1/2021</td>\n",
       "      <td>Male</td>\n",
       "      <td>48.0</td>\n",
       "      <td>Single</td>\n",
       "      <td>Silver</td>\n",
       "      <td>workers</td>\n",
       "      <td>1073.15</td>\n",
       "    </tr>\n",
       "  </tbody>\n",
       "</table>\n",
       "<p>2180 rows × 7 columns</p>\n",
       "</div>"
      ],
      "text/plain": [
       "     Transaction_date  Gender   Age Marital_status   Segment Employees_status  \\\n",
       "0            1/1/2019  Female  19.0         Single     Basic     Unemployment   \n",
       "1            1/1/2019    Male  49.0         Single     Basic    self-employed   \n",
       "2            1/1/2019    Male  63.0        Married     Basic          workers   \n",
       "5            1/3/2019    Male  71.0         Single     Basic        Employees   \n",
       "6            1/3/2019  Female  34.0        Married  Platinum        Employees   \n",
       "...               ...     ...   ...            ...       ...              ...   \n",
       "2506        4/30/2021    Male  34.0         Single   Missing        Employees   \n",
       "2507         5/1/2021  Female  57.0         Single  Platinum    self-employed   \n",
       "2508         5/1/2021  Female  36.0        Married    Silver    self-employed   \n",
       "2509         5/1/2021    Male  22.0         Single     Basic          workers   \n",
       "2511         5/1/2021    Male  48.0         Single    Silver          workers   \n",
       "\n",
       "      Amount_spent  \n",
       "0          2051.36  \n",
       "1           544.04  \n",
       "2          1572.60  \n",
       "5          2922.66  \n",
       "6          1481.42  \n",
       "...            ...  \n",
       "2506        286.82  \n",
       "2507        150.10  \n",
       "2508        708.88  \n",
       "2509       2030.07  \n",
       "2511       1073.15  \n",
       "\n",
       "[2180 rows x 7 columns]"
      ]
     },
     "execution_count": 4,
     "metadata": {},
     "output_type": "execute_result"
    }
   ],
   "source": [
    "# 필요한 컬럼선별 및 결측지 제거.\n",
    "cd = cd.loc[:, ['Transaction_date', 'Gender', 'Age', 'Marital_status', 'Segment', 'Employees_status', 'Amount_spent']]\n",
    "cd.dropna(axis=0)"
   ]
  },
  {
   "cell_type": "code",
   "execution_count": 5,
   "metadata": {},
   "outputs": [
    {
     "name": "stdout",
     "output_type": "stream",
     "text": [
      "     Transaction_date  Gender   Age Marital_status   Segment Employees_status  \\\n",
      "3            1/1/2019     NaN  18.0         Single  Platinum          workers   \n",
      "6            1/3/2019  Female  34.0        Married  Platinum        Employees   \n",
      "14           1/5/2019    Male  24.0        Married  Platinum    self-employed   \n",
      "15           1/6/2019    Male  16.0         Single  Platinum          workers   \n",
      "17           1/7/2019  Female  77.0        Married  Platinum          workers   \n",
      "...               ...     ...   ...            ...       ...              ...   \n",
      "2443         4/9/2021    Male  60.0        Married  Platinum        Employees   \n",
      "2444        4/10/2021  Female  50.0        Married  Platinum    self-employed   \n",
      "2469        4/19/2021  Female  25.0        Married  Platinum          workers   \n",
      "2495        4/27/2021  Female  20.0        Married  Platinum        Employees   \n",
      "2507         5/1/2021  Female  57.0         Single  Platinum    self-employed   \n",
      "\n",
      "      Amount_spent  \n",
      "3          1199.79  \n",
      "6          1481.42  \n",
      "14          954.12  \n",
      "15         1005.92  \n",
      "17         2999.98  \n",
      "...            ...  \n",
      "2443           NaN  \n",
      "2444       1979.94  \n",
      "2469       2891.30  \n",
      "2495           NaN  \n",
      "2507        150.10  \n",
      "\n",
      "[443 rows x 7 columns]\n"
     ]
    }
   ],
   "source": [
    "# 선별한 컬럼에서 등급이 플래티넘인 데이터 추출\n",
    "found = cd['Segment'] == 'Platinum'\n",
    "pt = cd[found]\n",
    "print(pt)"
   ]
  },
  {
   "cell_type": "code",
   "execution_count": 6,
   "metadata": {},
   "outputs": [
    {
     "name": "stdout",
     "output_type": "stream",
     "text": [
      "     Transaction_date  Gender   Age Marital_status Segment Employees_status  \\\n",
      "9            1/4/2019  Female  41.0        Married    Gold     Unemployment   \n",
      "33          1/14/2019    Male  15.0        Married    Gold    self-employed   \n",
      "42          1/17/2019  Female  16.0         Single    Gold    self-employed   \n",
      "43          1/18/2019  Female  63.0        Married    Gold          workers   \n",
      "56          1/25/2019  Female  67.0         Single    Gold        Employees   \n",
      "...               ...     ...   ...            ...     ...              ...   \n",
      "2448        4/12/2021    Male  57.0        Married    Gold          workers   \n",
      "2466        4/16/2021  Female  76.0        Married    Gold        Employees   \n",
      "2468        4/18/2021  Female  73.0        Married    Gold        Employees   \n",
      "2480        4/22/2021    Male  61.0         Single    Gold        Employees   \n",
      "2483        4/23/2021    Male  73.0         Single    Gold          workers   \n",
      "\n",
      "      Amount_spent  \n",
      "9          2730.60  \n",
      "33          628.93  \n",
      "42          938.16  \n",
      "43          281.92  \n",
      "56          611.70  \n",
      "...            ...  \n",
      "2448        739.38  \n",
      "2466       2885.52  \n",
      "2468          2.09  \n",
      "2480       1814.01  \n",
      "2483       1377.94  \n",
      "\n",
      "[247 rows x 7 columns]\n"
     ]
    }
   ],
   "source": [
    "# 선별한 컬럼에서 등급이 배이직인 데이터 추출\n",
    "found = cd['Segment'] == 'Gold'\n",
    "gd = cd[found]\n",
    "print(gd)"
   ]
  },
  {
   "cell_type": "code",
   "execution_count": 7,
   "metadata": {},
   "outputs": [
    {
     "name": "stdout",
     "output_type": "stream",
     "text": [
      "     Transaction_date  Gender   Age Marital_status Segment Employees_status  \\\n",
      "8            1/4/2019    Male  75.0        Married  Silver        Employees   \n",
      "16           1/6/2019  Female  72.0        Married  Silver    self-employed   \n",
      "21           1/8/2019    Male  42.0        Married  Silver          workers   \n",
      "29          1/12/2019  Female  62.0        Married  Silver        Employees   \n",
      "35          1/14/2019    Male  70.0        Married  Silver          workers   \n",
      "...               ...     ...   ...            ...     ...              ...   \n",
      "2498        4/28/2021  Female  55.0         Single  Silver     Unemployment   \n",
      "2499        4/28/2021    Male  33.0        Married  Silver        Employees   \n",
      "2501        4/29/2021  Female  65.0         Single  Silver     Unemployment   \n",
      "2508         5/1/2021  Female  36.0        Married  Silver    self-employed   \n",
      "2511         5/1/2021    Male  48.0         Single  Silver          workers   \n",
      "\n",
      "      Amount_spent  \n",
      "8          1046.20  \n",
      "16         2882.77  \n",
      "21          995.77  \n",
      "29             NaN  \n",
      "35         2040.29  \n",
      "...            ...  \n",
      "2498       1553.61  \n",
      "2499       2482.85  \n",
      "2501           NaN  \n",
      "2508        708.88  \n",
      "2511       1073.15  \n",
      "\n",
      "[490 rows x 7 columns]\n"
     ]
    }
   ],
   "source": [
    "# 선별한 컬럼에서 등급이 실버인 데이터 추출\n",
    "found = cd['Segment'] == 'Silver'\n",
    "sv = cd[found]\n",
    "print(sv)"
   ]
  },
  {
   "cell_type": "code",
   "execution_count": 8,
   "metadata": {},
   "outputs": [
    {
     "name": "stdout",
     "output_type": "stream",
     "text": [
      "     Transaction_date  Gender   Age Marital_status Segment Employees_status  \\\n",
      "0            1/1/2019  Female  19.0         Single   Basic     Unemployment   \n",
      "1            1/1/2019    Male  49.0         Single   Basic    self-employed   \n",
      "2            1/1/2019    Male  63.0        Married   Basic          workers   \n",
      "4            1/1/2019    Male  27.0         Single   Basic    self-employed   \n",
      "5            1/3/2019    Male  71.0         Single   Basic        Employees   \n",
      "...               ...     ...   ...            ...     ...              ...   \n",
      "2503        4/29/2021    Male  67.0         Single   Basic        Employees   \n",
      "2504        4/30/2021    Male  34.0        Married   Basic    self-employed   \n",
      "2505        4/30/2021    Male  54.0        Married   Basic        Employees   \n",
      "2509         5/1/2021    Male  22.0         Single   Basic          workers   \n",
      "2510         5/1/2021     NaN  44.0         Single   Basic        Employees   \n",
      "\n",
      "      Amount_spent  \n",
      "0          2051.36  \n",
      "1           544.04  \n",
      "2          1572.60  \n",
      "4              NaN  \n",
      "5          2922.66  \n",
      "...            ...  \n",
      "2503        511.50  \n",
      "2504       1691.57  \n",
      "2505        266.61  \n",
      "2509       2030.07  \n",
      "2510       1909.77  \n",
      "\n",
      "[1136 rows x 7 columns]\n"
     ]
    }
   ],
   "source": [
    "# 선별한 컬럼에서 등급이 배이직인 데이터 추출\n",
    "found = cd['Segment'] == 'Basic'\n",
    "bs = cd[found]\n",
    "print(bs)"
   ]
  },
  {
   "cell_type": "code",
   "execution_count": 9,
   "metadata": {},
   "outputs": [
    {
     "name": "stdout",
     "output_type": "stream",
     "text": [
      "45.68036529680365\n",
      "47.33471074380165\n",
      "45.78125\n",
      "47.09310653536258\n"
     ]
    },
    {
     "data": {
      "text/plain": [
       "<BarContainer object of 4 artists>"
      ]
     },
     "execution_count": 9,
     "metadata": {},
     "output_type": "execute_result"
    },
    {
     "data": {
      "image/png": "[encoded data removed]",
      "text/plain": [
       "<Figure size 432x288 with 1 Axes>"
      ]
     },
     "metadata": {
      "needs_background": "light"
     },
     "output_type": "display_data"
    }
   ],
   "source": [
    "# 각 등급별 평균나이\n",
    "print(np.mean(pt['Age']))\n",
    "print(np.mean(gd['Age']))\n",
    "print(np.mean(sv['Age']))\n",
    "print(np.mean(bs['Age']))\n",
    "\n",
    "x = ['Platinum', 'Glod', 'Silver', 'Basic']\n",
    "ptm = [np.mean(pt['Age']) , np.mean(gd['Age']), np.mean(sv['Age']), np.mean(bs['Age'])]\n",
    "plt.title(\"등급별 평균나이\")\n",
    "plt.bar(x, ptm, color=['r', 'gold', 'silver', 'b'])"
   ]
  },
  {
   "cell_type": "code",
   "execution_count": 10,
   "metadata": {},
   "outputs": [
    {
     "name": "stdout",
     "output_type": "stream",
     "text": [
      "1455.118730964467\n",
      "1389.5272272727273\n",
      "1411.8759122401848\n",
      "1411.7301826923076\n"
     ]
    },
    {
     "data": {
      "text/plain": [
       "<BarContainer object of 4 artists>"
      ]
     },
     "execution_count": 10,
     "metadata": {},
     "output_type": "execute_result"
    },
    {
     "data": {
      "image/png": "[encoded data removed]",
      "text/plain": [
       "<Figure size 432x288 with 1 Axes>"
      ]
     },
     "metadata": {
      "needs_background": "light"
     },
     "output_type": "display_data"
    }
   ],
   "source": [
    "# 각 등급별 평균 소비금액\n",
    "print(np.mean(pt['Amount_spent']))\n",
    "print(np.mean(gd['Amount_spent']))\n",
    "print(np.mean(sv['Amount_spent']))\n",
    "print(np.mean(bs['Amount_spent']))\n",
    "\n",
    "x = ['Platinum', 'Glod', 'Silver', 'Basic']\n",
    "ptm = [np.mean(pt['Amount_spent']), np.mean(gd['Amount_spent']), np.mean(sv['Amount_spent']), np.mean(bs['Amount_spent'])]\n",
    "plt.title(\"등급별 평균소비금액$\")\n",
    "plt.barh(x, ptm, color=['r', 'gold', 'silver', 'b'])"
   ]
  },
  {
   "cell_type": "code",
   "execution_count": 11,
   "metadata": {},
   "outputs": [
    {
     "data": {
      "image/png": "[encoded data removed]",
      "text/plain": [
       "<Figure size 576x576 with 1 Axes>"
      ]
     },
     "metadata": {},
     "output_type": "display_data"
    }
   ],
   "source": [
    "x = [np.mean(pt['Amount_spent']), np.mean(gd['Amount_spent']), np.mean(sv['Amount_spent']), np.mean(bs['Amount_spent'])]\n",
    "labels = ['Platinum', 'Glod', 'Silver', 'Basic']\n",
    "fig = plt.figure(figsize=(8,8)) ## 캔버스 생성\n",
    "fig.set_facecolor('white') ## 캔버스 배경색을 하얀색으로 설정\n",
    "plt.pie(x, labels=labels, autopct='%.3f%%')\n",
    "plt.show()"
   ]
  },
  {
   "cell_type": "code",
   "execution_count": 12,
   "metadata": {},
   "outputs": [
    {
     "data": {
      "text/html": [
       "<div>\n",
       "<style scoped>\n",
       "    .dataframe tbody tr th:only-of-type {\n",
       "        vertical-align: middle;\n",
       "    }\n",
       "\n",
       "    .dataframe tbody tr th {\n",
       "        vertical-align: top;\n",
       "    }\n",
       "\n",
       "    .dataframe thead th {\n",
       "        text-align: right;\n",
       "    }\n",
       "</style>\n",
       "<table border=\"1\" class=\"dataframe\">\n",
       "  <thead>\n",
       "    <tr style=\"text-align: right;\">\n",
       "      <th></th>\n",
       "      <th>Transaction_date</th>\n",
       "      <th>Age</th>\n",
       "      <th>Marital_status</th>\n",
       "      <th>Segment</th>\n",
       "      <th>Employees_status</th>\n",
       "      <th>Amount_spent</th>\n",
       "    </tr>\n",
       "    <tr>\n",
       "      <th>Gender</th>\n",
       "      <th></th>\n",
       "      <th></th>\n",
       "      <th></th>\n",
       "      <th></th>\n",
       "      <th></th>\n",
       "      <th></th>\n",
       "    </tr>\n",
       "  </thead>\n",
       "  <tbody>\n",
       "    <tr>\n",
       "      <th>Female</th>\n",
       "      <td>236</td>\n",
       "      <td>233</td>\n",
       "      <td>236</td>\n",
       "      <td>236</td>\n",
       "      <td>235</td>\n",
       "      <td>209</td>\n",
       "    </tr>\n",
       "    <tr>\n",
       "      <th>Male</th>\n",
       "      <td>202</td>\n",
       "      <td>200</td>\n",
       "      <td>202</td>\n",
       "      <td>202</td>\n",
       "      <td>200</td>\n",
       "      <td>181</td>\n",
       "    </tr>\n",
       "  </tbody>\n",
       "</table>\n",
       "</div>"
      ],
      "text/plain": [
       "        Transaction_date  Age  Marital_status  Segment  Employees_status  \\\n",
       "Gender                                                                     \n",
       "Female               236  233             236      236               235   \n",
       "Male                 202  200             202      202               200   \n",
       "\n",
       "        Amount_spent  \n",
       "Gender                \n",
       "Female           209  \n",
       "Male             181  "
      ]
     },
     "execution_count": 12,
     "metadata": {},
     "output_type": "execute_result"
    }
   ],
   "source": [
    "# 플래티넘 등급 성비 합\n",
    "pt1 = pt.groupby(['Gender']).count()\n",
    "pt1"
   ]
  },
  {
   "cell_type": "code",
   "execution_count": 13,
   "metadata": {},
   "outputs": [
    {
     "data": {
      "text/plain": [
       "<BarContainer object of 2 artists>"
      ]
     },
     "execution_count": 13,
     "metadata": {},
     "output_type": "execute_result"
    },
    {
     "data": {
      "image/png": "[encoded data removed]",
      "text/plain": [
       "<Figure size 432x288 with 1 Axes>"
      ]
     },
     "metadata": {
      "needs_background": "light"
     },
     "output_type": "display_data"
    }
   ],
   "source": [
    "# 플레티넘 등급 성비 구매율\n",
    "x = ['Female', 'Male']\n",
    "plt.title('플래티넘 등급의 성별에 따른 구매율')\n",
    "plt.bar(x, pt1['Transaction_date'], color=['r', 'b'])"
   ]
  },
  {
   "cell_type": "code",
   "execution_count": 14,
   "metadata": {},
   "outputs": [
    {
     "data": {
      "text/html": [
       "<div>\n",
       "<style scoped>\n",
       "    .dataframe tbody tr th:only-of-type {\n",
       "        vertical-align: middle;\n",
       "    }\n",
       "\n",
       "    .dataframe tbody tr th {\n",
       "        vertical-align: top;\n",
       "    }\n",
       "\n",
       "    .dataframe thead th {\n",
       "        text-align: right;\n",
       "    }\n",
       "</style>\n",
       "<table border=\"1\" class=\"dataframe\">\n",
       "  <thead>\n",
       "    <tr style=\"text-align: right;\">\n",
       "      <th></th>\n",
       "      <th>Age</th>\n",
       "      <th>Amount_spent</th>\n",
       "    </tr>\n",
       "    <tr>\n",
       "      <th>Gender</th>\n",
       "      <th></th>\n",
       "      <th></th>\n",
       "    </tr>\n",
       "  </thead>\n",
       "  <tbody>\n",
       "    <tr>\n",
       "      <th>Female</th>\n",
       "      <td>47.012876</td>\n",
       "      <td>1413.755933</td>\n",
       "    </tr>\n",
       "    <tr>\n",
       "      <th>Male</th>\n",
       "      <td>44.350000</td>\n",
       "      <td>1499.092155</td>\n",
       "    </tr>\n",
       "  </tbody>\n",
       "</table>\n",
       "</div>"
      ],
      "text/plain": [
       "              Age  Amount_spent\n",
       "Gender                         \n",
       "Female  47.012876   1413.755933\n",
       "Male    44.350000   1499.092155"
      ]
     },
     "execution_count": 14,
     "metadata": {},
     "output_type": "execute_result"
    }
   ],
   "source": [
    "# 플래티넘 등급 성별 평균값\n",
    "pt2 = pt.groupby(['Gender']).mean()\n",
    "pt2"
   ]
  },
  {
   "cell_type": "code",
   "execution_count": 15,
   "metadata": {},
   "outputs": [
    {
     "data": {
      "text/plain": [
       "<BarContainer object of 2 artists>"
      ]
     },
     "execution_count": 15,
     "metadata": {},
     "output_type": "execute_result"
    },
    {
     "data": {
      "image/png": "[encoded data removed]",
      "text/plain": [
       "<Figure size 432x288 with 1 Axes>"
      ]
     },
     "metadata": {
      "needs_background": "light"
     },
     "output_type": "display_data"
    }
   ],
   "source": [
    "# 플래티넘 등급의 남녀 평균나이\n",
    "x = ['Female', 'Male']\n",
    "plt.title('플래티넘 등급의 남녀 평균나이')\n",
    "plt.barh(x, pt2['Age'], color=['r', 'b'])"
   ]
  },
  {
   "cell_type": "code",
   "execution_count": 16,
   "metadata": {},
   "outputs": [
    {
     "data": {
      "text/plain": [
       "<BarContainer object of 2 artists>"
      ]
     },
     "execution_count": 16,
     "metadata": {},
     "output_type": "execute_result"
    },
    {
     "data": {
      "image/png": "[encoded data removed]",
      "text/plain": [
       "<Figure size 432x288 with 1 Axes>"
      ]
     },
     "metadata": {
      "needs_background": "light"
     },
     "output_type": "display_data"
    }
   ],
   "source": [
    "# 플래티넘 등급의 남녀 평균소비금액\n",
    "x = ['Female', 'Male']\n",
    "plt.title('플래티넘 등급의 남녀 평균 소비금액$')\n",
    "plt.bar(x, pt2['Amount_spent'], color=['r', 'b'])\n",
    "# 플래티넘 등급의 구매율은 여성이 더 많지만 소비금액은 남성이 더 높다."
   ]
  },
  {
   "cell_type": "code",
   "execution_count": null,
   "metadata": {},
   "outputs": [],
   "source": []
  },
  {
   "cell_type": "code",
   "execution_count": 17,
   "metadata": {},
   "outputs": [
    {
     "data": {
      "text/html": [
       "<div>\n",
       "<style scoped>\n",
       "    .dataframe tbody tr th:only-of-type {\n",
       "        vertical-align: middle;\n",
       "    }\n",
       "\n",
       "    .dataframe tbody tr th {\n",
       "        vertical-align: top;\n",
       "    }\n",
       "\n",
       "    .dataframe thead th {\n",
       "        text-align: right;\n",
       "    }\n",
       "</style>\n",
       "<table border=\"1\" class=\"dataframe\">\n",
       "  <thead>\n",
       "    <tr style=\"text-align: right;\">\n",
       "      <th></th>\n",
       "      <th>Transaction_date</th>\n",
       "      <th>Age</th>\n",
       "      <th>Marital_status</th>\n",
       "      <th>Segment</th>\n",
       "      <th>Employees_status</th>\n",
       "      <th>Amount_spent</th>\n",
       "    </tr>\n",
       "    <tr>\n",
       "      <th>Gender</th>\n",
       "      <th></th>\n",
       "      <th></th>\n",
       "      <th></th>\n",
       "      <th></th>\n",
       "      <th></th>\n",
       "      <th></th>\n",
       "    </tr>\n",
       "  </thead>\n",
       "  <tbody>\n",
       "    <tr>\n",
       "      <th>Female</th>\n",
       "      <td>271</td>\n",
       "      <td>263</td>\n",
       "      <td>271</td>\n",
       "      <td>271</td>\n",
       "      <td>269</td>\n",
       "      <td>233</td>\n",
       "    </tr>\n",
       "    <tr>\n",
       "      <th>Male</th>\n",
       "      <td>214</td>\n",
       "      <td>212</td>\n",
       "      <td>214</td>\n",
       "      <td>214</td>\n",
       "      <td>213</td>\n",
       "      <td>195</td>\n",
       "    </tr>\n",
       "  </tbody>\n",
       "</table>\n",
       "</div>"
      ],
      "text/plain": [
       "        Transaction_date  Age  Marital_status  Segment  Employees_status  \\\n",
       "Gender                                                                     \n",
       "Female               271  263             271      271               269   \n",
       "Male                 214  212             214      214               213   \n",
       "\n",
       "        Amount_spent  \n",
       "Gender                \n",
       "Female           233  \n",
       "Male             195  "
      ]
     },
     "execution_count": 17,
     "metadata": {},
     "output_type": "execute_result"
    }
   ],
   "source": [
    "# 실버 등급 성비 합\n",
    "sv1 = sv.groupby('Gender').count()\n",
    "sv1"
   ]
  },
  {
   "cell_type": "code",
   "execution_count": 18,
   "metadata": {},
   "outputs": [
    {
     "data": {
      "text/plain": [
       "<BarContainer object of 2 artists>"
      ]
     },
     "execution_count": 18,
     "metadata": {},
     "output_type": "execute_result"
    },
    {
     "data": {
      "image/png": "[encoded data removed]",
      "text/plain": [
       "<Figure size 432x288 with 1 Axes>"
      ]
     },
     "metadata": {
      "needs_background": "light"
     },
     "output_type": "display_data"
    }
   ],
   "source": [
    "# 실버 등급의 구매성비\n",
    "x = ['Female', 'Male']\n",
    "plt.title('실버 등급의 성별에 따른 구매율')\n",
    "plt.bar(x, sv1['Transaction_date'], color=['r','b'])"
   ]
  },
  {
   "cell_type": "code",
   "execution_count": 19,
   "metadata": {},
   "outputs": [
    {
     "data": {
      "text/html": [
       "<div>\n",
       "<style scoped>\n",
       "    .dataframe tbody tr th:only-of-type {\n",
       "        vertical-align: middle;\n",
       "    }\n",
       "\n",
       "    .dataframe tbody tr th {\n",
       "        vertical-align: top;\n",
       "    }\n",
       "\n",
       "    .dataframe thead th {\n",
       "        text-align: right;\n",
       "    }\n",
       "</style>\n",
       "<table border=\"1\" class=\"dataframe\">\n",
       "  <thead>\n",
       "    <tr style=\"text-align: right;\">\n",
       "      <th></th>\n",
       "      <th>Age</th>\n",
       "      <th>Amount_spent</th>\n",
       "    </tr>\n",
       "    <tr>\n",
       "      <th>Gender</th>\n",
       "      <th></th>\n",
       "      <th></th>\n",
       "    </tr>\n",
       "  </thead>\n",
       "  <tbody>\n",
       "    <tr>\n",
       "      <th>Female</th>\n",
       "      <td>45.429658</td>\n",
       "      <td>1428.105150</td>\n",
       "    </tr>\n",
       "    <tr>\n",
       "      <th>Male</th>\n",
       "      <td>46.037736</td>\n",
       "      <td>1396.263897</td>\n",
       "    </tr>\n",
       "  </tbody>\n",
       "</table>\n",
       "</div>"
      ],
      "text/plain": [
       "              Age  Amount_spent\n",
       "Gender                         \n",
       "Female  45.429658   1428.105150\n",
       "Male    46.037736   1396.263897"
      ]
     },
     "execution_count": 19,
     "metadata": {},
     "output_type": "execute_result"
    }
   ],
   "source": [
    "sv2 = sv.groupby('Gender').mean()\n",
    "sv2"
   ]
  },
  {
   "cell_type": "code",
   "execution_count": 20,
   "metadata": {},
   "outputs": [
    {
     "data": {
      "text/plain": [
       "<BarContainer object of 2 artists>"
      ]
     },
     "execution_count": 20,
     "metadata": {},
     "output_type": "execute_result"
    },
    {
     "data": {
      "image/png": "[encoded data removed]",
      "text/plain": [
       "<Figure size 432x288 with 1 Axes>"
      ]
     },
     "metadata": {
      "needs_background": "light"
     },
     "output_type": "display_data"
    }
   ],
   "source": [
    "# 실버 등급의 남녀 평균나이\n",
    "x = ['Female', 'Male']\n",
    "plt.title('실버 등급의 남녀 평균나이')\n",
    "plt.barh(x, sv2['Age'], color=['r','b'])\n",
    "# 플래티넘에 비해 실버는 남성의 비율이 높다."
   ]
  },
  {
   "cell_type": "code",
   "execution_count": 21,
   "metadata": {},
   "outputs": [
    {
     "data": {
      "text/plain": [
       "<BarContainer object of 2 artists>"
      ]
     },
     "execution_count": 21,
     "metadata": {},
     "output_type": "execute_result"
    },
    {
     "data": {
      "image/png": "[encoded data removed]",
      "text/plain": [
       "<Figure size 432x288 with 1 Axes>"
      ]
     },
     "metadata": {
      "needs_background": "light"
     },
     "output_type": "display_data"
    }
   ],
   "source": [
    "# 실버 등급의 남녀 평균소비금액\n",
    "x = ['Female', 'Male']\n",
    "plt.title('실버 등급의 남녀 평균 소비금액$')\n",
    "plt.bar(x, sv2['Amount_spent'], color=['r','b'])\n",
    "# 실버의 경우 여성의 소비 금액이 더 높다."
   ]
  },
  {
   "cell_type": "code",
   "execution_count": 22,
   "metadata": {},
   "outputs": [
    {
     "data": {
      "text/html": [
       "<div>\n",
       "<style scoped>\n",
       "    .dataframe tbody tr th:only-of-type {\n",
       "        vertical-align: middle;\n",
       "    }\n",
       "\n",
       "    .dataframe tbody tr th {\n",
       "        vertical-align: top;\n",
       "    }\n",
       "\n",
       "    .dataframe thead th {\n",
       "        text-align: right;\n",
       "    }\n",
       "</style>\n",
       "<table border=\"1\" class=\"dataframe\">\n",
       "  <thead>\n",
       "    <tr style=\"text-align: right;\">\n",
       "      <th></th>\n",
       "      <th>Transaction_date</th>\n",
       "      <th>Age</th>\n",
       "      <th>Marital_status</th>\n",
       "      <th>Segment</th>\n",
       "      <th>Employees_status</th>\n",
       "      <th>Amount_spent</th>\n",
       "    </tr>\n",
       "    <tr>\n",
       "      <th>Gender</th>\n",
       "      <th></th>\n",
       "      <th></th>\n",
       "      <th></th>\n",
       "      <th></th>\n",
       "      <th></th>\n",
       "      <th></th>\n",
       "    </tr>\n",
       "  </thead>\n",
       "  <tbody>\n",
       "    <tr>\n",
       "      <th>Female</th>\n",
       "      <td>616</td>\n",
       "      <td>603</td>\n",
       "      <td>616</td>\n",
       "      <td>616</td>\n",
       "      <td>605</td>\n",
       "      <td>560</td>\n",
       "    </tr>\n",
       "    <tr>\n",
       "      <th>Male</th>\n",
       "      <td>507</td>\n",
       "      <td>501</td>\n",
       "      <td>507</td>\n",
       "      <td>507</td>\n",
       "      <td>504</td>\n",
       "      <td>468</td>\n",
       "    </tr>\n",
       "  </tbody>\n",
       "</table>\n",
       "</div>"
      ],
      "text/plain": [
       "        Transaction_date  Age  Marital_status  Segment  Employees_status  \\\n",
       "Gender                                                                     \n",
       "Female               616  603             616      616               605   \n",
       "Male                 507  501             507      507               504   \n",
       "\n",
       "        Amount_spent  \n",
       "Gender                \n",
       "Female           560  \n",
       "Male             468  "
      ]
     },
     "execution_count": 22,
     "metadata": {},
     "output_type": "execute_result"
    }
   ],
   "source": [
    "bs1 = bs.groupby(['Gender']).count()\n",
    "bs1"
   ]
  },
  {
   "cell_type": "code",
   "execution_count": 23,
   "metadata": {},
   "outputs": [
    {
     "data": {
      "text/plain": [
       "<BarContainer object of 2 artists>"
      ]
     },
     "execution_count": 23,
     "metadata": {},
     "output_type": "execute_result"
    },
    {
     "data": {
      "image/png": "[encoded data removed]",
      "text/plain": [
       "<Figure size 432x288 with 1 Axes>"
      ]
     },
     "metadata": {
      "needs_background": "light"
     },
     "output_type": "display_data"
    }
   ],
   "source": [
    "# 배이직 등급의 구매성비\n",
    "x = ['Female', 'Male']\n",
    "plt.title('배이직 등급의 성별에 따른 구매율')\n",
    "plt.bar(x, bs1['Transaction_date'], color=['r','b'])"
   ]
  },
  {
   "cell_type": "code",
   "execution_count": 24,
   "metadata": {},
   "outputs": [
    {
     "data": {
      "text/html": [
       "<div>\n",
       "<style scoped>\n",
       "    .dataframe tbody tr th:only-of-type {\n",
       "        vertical-align: middle;\n",
       "    }\n",
       "\n",
       "    .dataframe tbody tr th {\n",
       "        vertical-align: top;\n",
       "    }\n",
       "\n",
       "    .dataframe thead th {\n",
       "        text-align: right;\n",
       "    }\n",
       "</style>\n",
       "<table border=\"1\" class=\"dataframe\">\n",
       "  <thead>\n",
       "    <tr style=\"text-align: right;\">\n",
       "      <th></th>\n",
       "      <th>Age</th>\n",
       "      <th>Amount_spent</th>\n",
       "    </tr>\n",
       "    <tr>\n",
       "      <th>Gender</th>\n",
       "      <th></th>\n",
       "      <th></th>\n",
       "    </tr>\n",
       "  </thead>\n",
       "  <tbody>\n",
       "    <tr>\n",
       "      <th>Female</th>\n",
       "      <td>47.524046</td>\n",
       "      <td>1419.099214</td>\n",
       "    </tr>\n",
       "    <tr>\n",
       "      <th>Male</th>\n",
       "      <td>46.812375</td>\n",
       "      <td>1410.688611</td>\n",
       "    </tr>\n",
       "  </tbody>\n",
       "</table>\n",
       "</div>"
      ],
      "text/plain": [
       "              Age  Amount_spent\n",
       "Gender                         \n",
       "Female  47.524046   1419.099214\n",
       "Male    46.812375   1410.688611"
      ]
     },
     "execution_count": 24,
     "metadata": {},
     "output_type": "execute_result"
    }
   ],
   "source": [
    "bs2 = bs.groupby('Gender').mean()\n",
    "bs2"
   ]
  },
  {
   "cell_type": "code",
   "execution_count": 25,
   "metadata": {},
   "outputs": [
    {
     "data": {
      "text/plain": [
       "<BarContainer object of 2 artists>"
      ]
     },
     "execution_count": 25,
     "metadata": {},
     "output_type": "execute_result"
    },
    {
     "data": {
      "image/png": "[encoded data removed]",
      "text/plain": [
       "<Figure size 432x288 with 1 Axes>"
      ]
     },
     "metadata": {
      "needs_background": "light"
     },
     "output_type": "display_data"
    }
   ],
   "source": [
    "# 배이직 등급의 남녀 평균나이\n",
    "x = ['Female', 'Male']\n",
    "plt.title('배이직 등급의 남녀 평균나이')\n",
    "plt.barh(x, bs2['Age'], color=['r','b'])"
   ]
  },
  {
   "cell_type": "code",
   "execution_count": 26,
   "metadata": {},
   "outputs": [
    {
     "data": {
      "text/plain": [
       "<BarContainer object of 2 artists>"
      ]
     },
     "execution_count": 26,
     "metadata": {},
     "output_type": "execute_result"
    },
    {
     "data": {
      "image/png": "[encoded data removed]",
      "text/plain": [
       "<Figure size 432x288 with 1 Axes>"
      ]
     },
     "metadata": {
      "needs_background": "light"
     },
     "output_type": "display_data"
    }
   ],
   "source": [
    "# 배이직 등급의 남녀 평균소비금액\n",
    "x = ['Female', 'Male']\n",
    "plt.title('배이직 등급의 남녀 평균 소비금액$')\n",
    "plt.bar(x, bs2['Amount_spent'], color=['r','b'])\n",
    "# 구매 비율은 여성이 높지만 소비금액은 남성과 차이가 많이나지 않는다"
   ]
  },
  {
   "cell_type": "code",
   "execution_count": 27,
   "metadata": {},
   "outputs": [
    {
     "data": {
      "text/html": [
       "<div>\n",
       "<style scoped>\n",
       "    .dataframe tbody tr th:only-of-type {\n",
       "        vertical-align: middle;\n",
       "    }\n",
       "\n",
       "    .dataframe tbody tr th {\n",
       "        vertical-align: top;\n",
       "    }\n",
       "\n",
       "    .dataframe thead th {\n",
       "        text-align: right;\n",
       "    }\n",
       "</style>\n",
       "<table border=\"1\" class=\"dataframe\">\n",
       "  <thead>\n",
       "    <tr style=\"text-align: right;\">\n",
       "      <th></th>\n",
       "      <th>Transaction_date</th>\n",
       "      <th>Gender</th>\n",
       "      <th>Age</th>\n",
       "      <th>Marital_status</th>\n",
       "      <th>Segment</th>\n",
       "      <th>Amount_spent</th>\n",
       "    </tr>\n",
       "    <tr>\n",
       "      <th>Employees_status</th>\n",
       "      <th></th>\n",
       "      <th></th>\n",
       "      <th></th>\n",
       "      <th></th>\n",
       "      <th></th>\n",
       "      <th></th>\n",
       "    </tr>\n",
       "  </thead>\n",
       "  <tbody>\n",
       "    <tr>\n",
       "      <th>Employees</th>\n",
       "      <td>148</td>\n",
       "      <td>146</td>\n",
       "      <td>148</td>\n",
       "      <td>148</td>\n",
       "      <td>148</td>\n",
       "      <td>131</td>\n",
       "    </tr>\n",
       "    <tr>\n",
       "      <th>Unemployment</th>\n",
       "      <td>52</td>\n",
       "      <td>52</td>\n",
       "      <td>51</td>\n",
       "      <td>52</td>\n",
       "      <td>52</td>\n",
       "      <td>42</td>\n",
       "    </tr>\n",
       "    <tr>\n",
       "      <th>self-employed</th>\n",
       "      <td>86</td>\n",
       "      <td>85</td>\n",
       "      <td>84</td>\n",
       "      <td>86</td>\n",
       "      <td>86</td>\n",
       "      <td>78</td>\n",
       "    </tr>\n",
       "    <tr>\n",
       "      <th>workers</th>\n",
       "      <td>154</td>\n",
       "      <td>152</td>\n",
       "      <td>152</td>\n",
       "      <td>154</td>\n",
       "      <td>154</td>\n",
       "      <td>140</td>\n",
       "    </tr>\n",
       "  </tbody>\n",
       "</table>\n",
       "</div>"
      ],
      "text/plain": [
       "                  Transaction_date  Gender  Age  Marital_status  Segment  \\\n",
       "Employees_status                                                           \n",
       "Employees                      148     146  148             148      148   \n",
       "Unemployment                    52      52   51              52       52   \n",
       "self-employed                   86      85   84              86       86   \n",
       "workers                        154     152  152             154      154   \n",
       "\n",
       "                  Amount_spent  \n",
       "Employees_status                \n",
       "Employees                  131  \n",
       "Unemployment                42  \n",
       "self-employed               78  \n",
       "workers                    140  "
      ]
     },
     "execution_count": 27,
     "metadata": {},
     "output_type": "execute_result"
    }
   ],
   "source": [
    "pte = pt.groupby('Employees_status').count()\n",
    "pte"
   ]
  },
  {
   "cell_type": "code",
   "execution_count": 28,
   "metadata": {},
   "outputs": [
    {
     "data": {
      "text/plain": [
       "<BarContainer object of 4 artists>"
      ]
     },
     "execution_count": 28,
     "metadata": {},
     "output_type": "execute_result"
    },
    {
     "data": {
      "image/png": "[encoded data removed]",
      "text/plain": [
       "<Figure size 432x288 with 1 Axes>"
      ]
     },
     "metadata": {
      "needs_background": "light"
     },
     "output_type": "display_data"
    }
   ],
   "source": [
    "# 플래티넘 등급의 직업별 구매비율\n",
    "x = ['Employees\t', 'Unemployment', 'self-employed', 'workers']\n",
    "plt.title('플래티넘 등급의 직업별 구매ql율')\n",
    "plt.bar(x, pte['Transaction_date'], color=['r', 'g','b', 'black'])"
   ]
  },
  {
   "cell_type": "code",
   "execution_count": 29,
   "metadata": {},
   "outputs": [
    {
     "data": {
      "text/plain": [
       "([<matplotlib.patches.Wedge at 0x13057d190>,\n",
       "  <matplotlib.patches.Wedge at 0x13057d8b0>,\n",
       "  <matplotlib.patches.Wedge at 0x13057df40>,\n",
       "  <matplotlib.patches.Wedge at 0x1305896d0>],\n",
       " [Text(0.54090619591363, 0.9578206968019881, 'Employees'),\n",
       "  Text(-0.8710924982433975, 0.6717126316395106, 'Unemployment'),\n",
       "  Text(-1.0412016200054495, -0.3548227536362735, 'self-employed'),\n",
       "  Text(0.4993896139484799, -0.9801071438778459, 'workers')],\n",
       " [Text(0.2950397432256163, 0.5224476528010844, '33.6%'),\n",
       "  Text(-0.4751413626782167, 0.3663887081670057, '11.8%'),\n",
       "  Text(-0.5679281563666088, -0.19353968380160372, '19.5%'),\n",
       "  Text(0.272394334880989, -0.5346038966606431, '35.0%')])"
      ]
     },
     "execution_count": 29,
     "metadata": {},
     "output_type": "execute_result"
    },
    {
     "data": {
      "image/png": "[encoded data removed]",
      "text/plain": [
       "<Figure size 576x576 with 1 Axes>"
      ]
     },
     "metadata": {},
     "output_type": "display_data"
    }
   ],
   "source": [
    "labels = ['Employees', 'Unemployment', 'self-employed', 'workers']\n",
    "fig = plt.figure(figsize=(8,8)) ## 캔버스 생성\n",
    "fig.set_facecolor('white') ## 캔버스 배경색을 하얀색으로 설정\n",
    "plt.pie(pte['Transaction_date'], labels=labels, autopct='%.1f%%')"
   ]
  },
  {
   "cell_type": "code",
   "execution_count": 30,
   "metadata": {},
   "outputs": [
    {
     "data": {
      "text/html": [
       "<div>\n",
       "<style scoped>\n",
       "    .dataframe tbody tr th:only-of-type {\n",
       "        vertical-align: middle;\n",
       "    }\n",
       "\n",
       "    .dataframe tbody tr th {\n",
       "        vertical-align: top;\n",
       "    }\n",
       "\n",
       "    .dataframe thead th {\n",
       "        text-align: right;\n",
       "    }\n",
       "</style>\n",
       "<table border=\"1\" class=\"dataframe\">\n",
       "  <thead>\n",
       "    <tr style=\"text-align: right;\">\n",
       "      <th></th>\n",
       "      <th>Age</th>\n",
       "      <th>Amount_spent</th>\n",
       "    </tr>\n",
       "    <tr>\n",
       "      <th>Employees_status</th>\n",
       "      <th></th>\n",
       "      <th></th>\n",
       "    </tr>\n",
       "  </thead>\n",
       "  <tbody>\n",
       "    <tr>\n",
       "      <th>Employees</th>\n",
       "      <td>48.033784</td>\n",
       "      <td>1540.238626</td>\n",
       "    </tr>\n",
       "    <tr>\n",
       "      <th>Unemployment</th>\n",
       "      <td>40.294118</td>\n",
       "      <td>1525.281905</td>\n",
       "    </tr>\n",
       "    <tr>\n",
       "      <th>self-employed</th>\n",
       "      <td>42.785714</td>\n",
       "      <td>1409.122051</td>\n",
       "    </tr>\n",
       "    <tr>\n",
       "      <th>workers</th>\n",
       "      <td>46.835526</td>\n",
       "      <td>1385.354786</td>\n",
       "    </tr>\n",
       "  </tbody>\n",
       "</table>\n",
       "</div>"
      ],
      "text/plain": [
       "                        Age  Amount_spent\n",
       "Employees_status                         \n",
       "Employees         48.033784   1540.238626\n",
       "Unemployment      40.294118   1525.281905\n",
       "self-employed     42.785714   1409.122051\n",
       "workers           46.835526   1385.354786"
      ]
     },
     "execution_count": 30,
     "metadata": {},
     "output_type": "execute_result"
    }
   ],
   "source": [
    "pte1 = pt.groupby('Employees_status').mean()\n",
    "pte1"
   ]
  },
  {
   "cell_type": "code",
   "execution_count": 31,
   "metadata": {},
   "outputs": [
    {
     "data": {
      "text/plain": [
       "<BarContainer object of 4 artists>"
      ]
     },
     "execution_count": 31,
     "metadata": {},
     "output_type": "execute_result"
    },
    {
     "data": {
      "image/png": "[encoded data removed]",
      "text/plain": [
       "<Figure size 432x288 with 1 Axes>"
      ]
     },
     "metadata": {
      "needs_background": "light"
     },
     "output_type": "display_data"
    }
   ],
   "source": [
    "# 플래티넘 등급의 직업별 평균나이\n",
    "x = ['Employees\t', 'Unemployment', 'self-employed', 'workers']\n",
    "plt.title('플래티넘 등급의 직업별 평균 나이')\n",
    "plt.barh(x, pte1['Age'], color=['r', 'g','b', 'black'])"
   ]
  },
  {
   "cell_type": "code",
   "execution_count": 32,
   "metadata": {},
   "outputs": [
    {
     "data": {
      "text/plain": [
       "<BarContainer object of 4 artists>"
      ]
     },
     "execution_count": 32,
     "metadata": {},
     "output_type": "execute_result"
    },
    {
     "data": {
      "image/png": "[encoded data removed]",
      "text/plain": [
       "<Figure size 432x288 with 1 Axes>"
      ]
     },
     "metadata": {
      "needs_background": "light"
     },
     "output_type": "display_data"
    }
   ],
   "source": [
    "# 플래티넘 등급의 직업별 평균 소비금액\n",
    "x = ['Employees\t', 'Unemployment', 'self-employed', 'workers']\n",
    "plt.title('플래티넘 등급의 직업별 평균 소비금액$')\n",
    "plt.bar(x, pte1['Amount_spent'], color=['r', 'g','b', 'black'])\n",
    "# 플래티넘 등급의 무직인 구매자의 소비금액이 구매율에 비해 높다"
   ]
  },
  {
   "cell_type": "code",
   "execution_count": 33,
   "metadata": {},
   "outputs": [
    {
     "data": {
      "text/html": [
       "<div>\n",
       "<style scoped>\n",
       "    .dataframe tbody tr th:only-of-type {\n",
       "        vertical-align: middle;\n",
       "    }\n",
       "\n",
       "    .dataframe tbody tr th {\n",
       "        vertical-align: top;\n",
       "    }\n",
       "\n",
       "    .dataframe thead th {\n",
       "        text-align: right;\n",
       "    }\n",
       "</style>\n",
       "<table border=\"1\" class=\"dataframe\">\n",
       "  <thead>\n",
       "    <tr style=\"text-align: right;\">\n",
       "      <th></th>\n",
       "      <th>Transaction_date</th>\n",
       "      <th>Gender</th>\n",
       "      <th>Age</th>\n",
       "      <th>Marital_status</th>\n",
       "      <th>Segment</th>\n",
       "      <th>Amount_spent</th>\n",
       "    </tr>\n",
       "    <tr>\n",
       "      <th>Employees_status</th>\n",
       "      <th></th>\n",
       "      <th></th>\n",
       "      <th></th>\n",
       "      <th></th>\n",
       "      <th></th>\n",
       "      <th></th>\n",
       "    </tr>\n",
       "  </thead>\n",
       "  <tbody>\n",
       "    <tr>\n",
       "      <th>Employees</th>\n",
       "      <td>194</td>\n",
       "      <td>191</td>\n",
       "      <td>189</td>\n",
       "      <td>194</td>\n",
       "      <td>194</td>\n",
       "      <td>171</td>\n",
       "    </tr>\n",
       "    <tr>\n",
       "      <th>Unemployment</th>\n",
       "      <td>49</td>\n",
       "      <td>49</td>\n",
       "      <td>49</td>\n",
       "      <td>49</td>\n",
       "      <td>49</td>\n",
       "      <td>40</td>\n",
       "    </tr>\n",
       "    <tr>\n",
       "      <th>self-employed</th>\n",
       "      <td>88</td>\n",
       "      <td>87</td>\n",
       "      <td>87</td>\n",
       "      <td>88</td>\n",
       "      <td>88</td>\n",
       "      <td>80</td>\n",
       "    </tr>\n",
       "    <tr>\n",
       "      <th>workers</th>\n",
       "      <td>156</td>\n",
       "      <td>155</td>\n",
       "      <td>152</td>\n",
       "      <td>156</td>\n",
       "      <td>156</td>\n",
       "      <td>139</td>\n",
       "    </tr>\n",
       "  </tbody>\n",
       "</table>\n",
       "</div>"
      ],
      "text/plain": [
       "                  Transaction_date  Gender  Age  Marital_status  Segment  \\\n",
       "Employees_status                                                           \n",
       "Employees                      194     191  189             194      194   \n",
       "Unemployment                    49      49   49              49       49   \n",
       "self-employed                   88      87   87              88       88   \n",
       "workers                        156     155  152             156      156   \n",
       "\n",
       "                  Amount_spent  \n",
       "Employees_status                \n",
       "Employees                  171  \n",
       "Unemployment                40  \n",
       "self-employed               80  \n",
       "workers                    139  "
      ]
     },
     "execution_count": 33,
     "metadata": {},
     "output_type": "execute_result"
    }
   ],
   "source": [
    "sve = sv.groupby('Employees_status').count()\n",
    "sve"
   ]
  },
  {
   "cell_type": "code",
   "execution_count": 34,
   "metadata": {},
   "outputs": [
    {
     "data": {
      "text/plain": [
       "<BarContainer object of 4 artists>"
      ]
     },
     "execution_count": 34,
     "metadata": {},
     "output_type": "execute_result"
    },
    {
     "data": {
      "image/png": "[encoded data removed]",
      "text/plain": [
       "<Figure size 432x288 with 1 Axes>"
      ]
     },
     "metadata": {
      "needs_background": "light"
     },
     "output_type": "display_data"
    }
   ],
   "source": [
    "# 실버 등급의 직업별 구매율\n",
    "x = ['Employees\t', 'Unemployment', 'self-employed', 'workers']\n",
    "plt.title('실버 등급의 직업별 구매율')\n",
    "plt.bar(x, sve['Transaction_date'], color=['r', 'g','b', 'black'])"
   ]
  },
  {
   "cell_type": "code",
   "execution_count": 35,
   "metadata": {},
   "outputs": [
    {
     "data": {
      "text/html": [
       "<div>\n",
       "<style scoped>\n",
       "    .dataframe tbody tr th:only-of-type {\n",
       "        vertical-align: middle;\n",
       "    }\n",
       "\n",
       "    .dataframe tbody tr th {\n",
       "        vertical-align: top;\n",
       "    }\n",
       "\n",
       "    .dataframe thead th {\n",
       "        text-align: right;\n",
       "    }\n",
       "</style>\n",
       "<table border=\"1\" class=\"dataframe\">\n",
       "  <thead>\n",
       "    <tr style=\"text-align: right;\">\n",
       "      <th></th>\n",
       "      <th>Age</th>\n",
       "      <th>Amount_spent</th>\n",
       "    </tr>\n",
       "    <tr>\n",
       "      <th>Employees_status</th>\n",
       "      <th></th>\n",
       "      <th></th>\n",
       "    </tr>\n",
       "  </thead>\n",
       "  <tbody>\n",
       "    <tr>\n",
       "      <th>Employees</th>\n",
       "      <td>45.555556</td>\n",
       "      <td>1490.157544</td>\n",
       "    </tr>\n",
       "    <tr>\n",
       "      <th>Unemployment</th>\n",
       "      <td>46.367347</td>\n",
       "      <td>1173.058500</td>\n",
       "    </tr>\n",
       "    <tr>\n",
       "      <th>self-employed</th>\n",
       "      <td>44.436782</td>\n",
       "      <td>1377.877750</td>\n",
       "    </tr>\n",
       "    <tr>\n",
       "      <th>workers</th>\n",
       "      <td>46.743421</td>\n",
       "      <td>1412.427194</td>\n",
       "    </tr>\n",
       "  </tbody>\n",
       "</table>\n",
       "</div>"
      ],
      "text/plain": [
       "                        Age  Amount_spent\n",
       "Employees_status                         \n",
       "Employees         45.555556   1490.157544\n",
       "Unemployment      46.367347   1173.058500\n",
       "self-employed     44.436782   1377.877750\n",
       "workers           46.743421   1412.427194"
      ]
     },
     "execution_count": 35,
     "metadata": {},
     "output_type": "execute_result"
    }
   ],
   "source": [
    "sve1 = sv.groupby('Employees_status').mean()\n",
    "sve1"
   ]
  },
  {
   "cell_type": "code",
   "execution_count": 36,
   "metadata": {},
   "outputs": [
    {
     "data": {
      "text/plain": [
       "<BarContainer object of 4 artists>"
      ]
     },
     "execution_count": 36,
     "metadata": {},
     "output_type": "execute_result"
    },
    {
     "data": {
      "image/png": "[encoded data removed]",
      "text/plain": [
       "<Figure size 432x288 with 1 Axes>"
      ]
     },
     "metadata": {
      "needs_background": "light"
     },
     "output_type": "display_data"
    }
   ],
   "source": [
    "# 실버 등급의 직업별 평균나이\n",
    "x = ['Employees\t', 'Unemployment', 'self-employed', 'workers']\n",
    "plt.title('실버 등급의 직업별 평균 나이')\n",
    "plt.barh(x, sve1['Age'], color=['r', 'g','b', 'black'])"
   ]
  },
  {
   "cell_type": "code",
   "execution_count": 37,
   "metadata": {},
   "outputs": [
    {
     "data": {
      "text/plain": [
       "<BarContainer object of 4 artists>"
      ]
     },
     "execution_count": 37,
     "metadata": {},
     "output_type": "execute_result"
    },
    {
     "data": {
      "image/png": "[encoded data removed]",
      "text/plain": [
       "<Figure size 432x288 with 1 Axes>"
      ]
     },
     "metadata": {
      "needs_background": "light"
     },
     "output_type": "display_data"
    }
   ],
   "source": [
    "# 실버 등급의 직업별 평균 소비금액\n",
    "x = ['Employees\t', 'Unemployment', 'self-employed', 'workers']\n",
    "plt.title('실버 등급의 직업별 평균 소비금액$')\n",
    "plt.bar(x, sve1['Amount_spent'], color=['r', 'g','b', 'black'],edgecolor = 'y', linewidth = 2.5)"
   ]
  },
  {
   "cell_type": "code",
   "execution_count": 38,
   "metadata": {},
   "outputs": [
    {
     "data": {
      "text/html": [
       "<div>\n",
       "<style scoped>\n",
       "    .dataframe tbody tr th:only-of-type {\n",
       "        vertical-align: middle;\n",
       "    }\n",
       "\n",
       "    .dataframe tbody tr th {\n",
       "        vertical-align: top;\n",
       "    }\n",
       "\n",
       "    .dataframe thead th {\n",
       "        text-align: right;\n",
       "    }\n",
       "</style>\n",
       "<table border=\"1\" class=\"dataframe\">\n",
       "  <thead>\n",
       "    <tr style=\"text-align: right;\">\n",
       "      <th></th>\n",
       "      <th>Transaction_date</th>\n",
       "      <th>Gender</th>\n",
       "      <th>Age</th>\n",
       "      <th>Marital_status</th>\n",
       "      <th>Segment</th>\n",
       "      <th>Amount_spent</th>\n",
       "    </tr>\n",
       "    <tr>\n",
       "      <th>Employees_status</th>\n",
       "      <th></th>\n",
       "      <th></th>\n",
       "      <th></th>\n",
       "      <th></th>\n",
       "      <th></th>\n",
       "      <th></th>\n",
       "    </tr>\n",
       "  </thead>\n",
       "  <tbody>\n",
       "    <tr>\n",
       "      <th>Employees</th>\n",
       "      <td>428</td>\n",
       "      <td>426</td>\n",
       "      <td>421</td>\n",
       "      <td>428</td>\n",
       "      <td>428</td>\n",
       "      <td>395</td>\n",
       "    </tr>\n",
       "    <tr>\n",
       "      <th>Unemployment</th>\n",
       "      <td>117</td>\n",
       "      <td>115</td>\n",
       "      <td>116</td>\n",
       "      <td>117</td>\n",
       "      <td>117</td>\n",
       "      <td>103</td>\n",
       "    </tr>\n",
       "    <tr>\n",
       "      <th>self-employed</th>\n",
       "      <td>227</td>\n",
       "      <td>226</td>\n",
       "      <td>224</td>\n",
       "      <td>227</td>\n",
       "      <td>227</td>\n",
       "      <td>209</td>\n",
       "    </tr>\n",
       "    <tr>\n",
       "      <th>workers</th>\n",
       "      <td>349</td>\n",
       "      <td>342</td>\n",
       "      <td>341</td>\n",
       "      <td>349</td>\n",
       "      <td>349</td>\n",
       "      <td>319</td>\n",
       "    </tr>\n",
       "  </tbody>\n",
       "</table>\n",
       "</div>"
      ],
      "text/plain": [
       "                  Transaction_date  Gender  Age  Marital_status  Segment  \\\n",
       "Employees_status                                                           \n",
       "Employees                      428     426  421             428      428   \n",
       "Unemployment                   117     115  116             117      117   \n",
       "self-employed                  227     226  224             227      227   \n",
       "workers                        349     342  341             349      349   \n",
       "\n",
       "                  Amount_spent  \n",
       "Employees_status                \n",
       "Employees                  395  \n",
       "Unemployment               103  \n",
       "self-employed              209  \n",
       "workers                    319  "
      ]
     },
     "execution_count": 38,
     "metadata": {},
     "output_type": "execute_result"
    }
   ],
   "source": [
    "bse = bs.groupby('Employees_status').count()\n",
    "bse"
   ]
  },
  {
   "cell_type": "code",
   "execution_count": 39,
   "metadata": {},
   "outputs": [
    {
     "data": {
      "text/plain": [
       "<BarContainer object of 4 artists>"
      ]
     },
     "execution_count": 39,
     "metadata": {},
     "output_type": "execute_result"
    },
    {
     "data": {
      "image/png": "[encoded data removed]",
      "text/plain": [
       "<Figure size 432x288 with 1 Axes>"
      ]
     },
     "metadata": {
      "needs_background": "light"
     },
     "output_type": "display_data"
    }
   ],
   "source": [
    "# 배이직 등급의 직업별 구매율\n",
    "x = ['Employees\t', 'Unemployment', 'self-employed', 'workers']\n",
    "plt.title('배이직 등급의 직업별 구매율')\n",
    "plt.bar(x, bse['Transaction_date'], color=['r', 'g','b', 'black'], width =[1, 0.3, 0.5, 0.7])"
   ]
  },
  {
   "cell_type": "code",
   "execution_count": 40,
   "metadata": {},
   "outputs": [
    {
     "data": {
      "text/html": [
       "<div>\n",
       "<style scoped>\n",
       "    .dataframe tbody tr th:only-of-type {\n",
       "        vertical-align: middle;\n",
       "    }\n",
       "\n",
       "    .dataframe tbody tr th {\n",
       "        vertical-align: top;\n",
       "    }\n",
       "\n",
       "    .dataframe thead th {\n",
       "        text-align: right;\n",
       "    }\n",
       "</style>\n",
       "<table border=\"1\" class=\"dataframe\">\n",
       "  <thead>\n",
       "    <tr style=\"text-align: right;\">\n",
       "      <th></th>\n",
       "      <th>Age</th>\n",
       "      <th>Amount_spent</th>\n",
       "    </tr>\n",
       "    <tr>\n",
       "      <th>Employees_status</th>\n",
       "      <th></th>\n",
       "      <th></th>\n",
       "    </tr>\n",
       "  </thead>\n",
       "  <tbody>\n",
       "    <tr>\n",
       "      <th>Employees</th>\n",
       "      <td>47.688836</td>\n",
       "      <td>1396.921848</td>\n",
       "    </tr>\n",
       "    <tr>\n",
       "      <th>Unemployment</th>\n",
       "      <td>44.267241</td>\n",
       "      <td>1397.269806</td>\n",
       "    </tr>\n",
       "    <tr>\n",
       "      <th>self-employed</th>\n",
       "      <td>46.964286</td>\n",
       "      <td>1501.684450</td>\n",
       "    </tr>\n",
       "    <tr>\n",
       "      <th>workers</th>\n",
       "      <td>47.668622</td>\n",
       "      <td>1382.620972</td>\n",
       "    </tr>\n",
       "  </tbody>\n",
       "</table>\n",
       "</div>"
      ],
      "text/plain": [
       "                        Age  Amount_spent\n",
       "Employees_status                         \n",
       "Employees         47.688836   1396.921848\n",
       "Unemployment      44.267241   1397.269806\n",
       "self-employed     46.964286   1501.684450\n",
       "workers           47.668622   1382.620972"
      ]
     },
     "execution_count": 40,
     "metadata": {},
     "output_type": "execute_result"
    }
   ],
   "source": [
    "bse1 = bs.groupby('Employees_status').mean()\n",
    "bse1"
   ]
  },
  {
   "cell_type": "code",
   "execution_count": 41,
   "metadata": {},
   "outputs": [
    {
     "data": {
      "text/plain": [
       "<BarContainer object of 4 artists>"
      ]
     },
     "execution_count": 41,
     "metadata": {},
     "output_type": "execute_result"
    },
    {
     "data": {
      "image/png": "[encoded data removed]",
      "text/plain": [
       "<Figure size 432x288 with 1 Axes>"
      ]
     },
     "metadata": {
      "needs_background": "light"
     },
     "output_type": "display_data"
    }
   ],
   "source": [
    "# 배이직 등급의 직업별 평균나이\n",
    "x = ['Employees\t', 'Unemployment', 'self-employed', 'workers']\n",
    "plt.title('배이직 등급의 직업별 평균 나이')\n",
    "plt.barh(x, bse1['Age'], color=['r', 'g','b', 'black'])"
   ]
  },
  {
   "cell_type": "code",
   "execution_count": 42,
   "metadata": {},
   "outputs": [
    {
     "data": {
      "text/plain": [
       "<BarContainer object of 4 artists>"
      ]
     },
     "execution_count": 42,
     "metadata": {},
     "output_type": "execute_result"
    },
    {
     "data": {
      "image/png": "[encoded data removed]",
      "text/plain": [
       "<Figure size 432x288 with 1 Axes>"
      ]
     },
     "metadata": {
      "needs_background": "light"
     },
     "output_type": "display_data"
    }
   ],
   "source": [
    "# 배이직 등급의 직업별 평균 소비금액\n",
    "x = ['Employees\t', 'Unemployment', 'self-employed', 'workers']\n",
    "plt.title('배이직 등급의 직업별 평균 소비금액$')\n",
    "plt.bar(x, bse1['Amount_spent'], color=['r', 'g','b', 'black'])\n",
    "# 배이직 등급은 구매율이 낮은 무직과 자영업자의 소비금액이 높다."
   ]
  },
  {
   "cell_type": "code",
   "execution_count": 43,
   "metadata": {},
   "outputs": [
    {
     "name": "stderr",
     "output_type": "stream",
     "text": [
      "/var/folders/j6/m7t5m6h978134_qwyw9q1nw00000gn/T/ipykernel_1214/2199224436.py:4: FutureWarning: Indexing a DataFrame with a datetimelike index using a single string to slice the rows, like `frame[string]`, is deprecated and will be removed in a future version. Use `frame.loc[string]` instead.\n",
      "  cdi2019 = cdi['2019']\n",
      "/var/folders/j6/m7t5m6h978134_qwyw9q1nw00000gn/T/ipykernel_1214/2199224436.py:5: FutureWarning: Indexing a DataFrame with a datetimelike index using a single string to slice the rows, like `frame[string]`, is deprecated and will be removed in a future version. Use `frame.loc[string]` instead.\n",
      "  cdi2020 = cdi['2020']\n"
     ]
    }
   ],
   "source": [
    "# 연도별로 검색을 위해 데이터타임 타입의 컬럼을 새로 만들고 인덱스로 지정\n",
    "cd['date'] = pd.to_datetime(cd['Transaction_date'])\n",
    "cdi = cd.set_index('date')\n",
    "cdi2019 = cdi['2019']\n",
    "cdi2020 = cdi['2020']"
   ]
  },
  {
   "cell_type": "code",
   "execution_count": 44,
   "metadata": {},
   "outputs": [
    {
     "data": {
      "text/html": [
       "<div>\n",
       "<style scoped>\n",
       "    .dataframe tbody tr th:only-of-type {\n",
       "        vertical-align: middle;\n",
       "    }\n",
       "\n",
       "    .dataframe tbody tr th {\n",
       "        vertical-align: top;\n",
       "    }\n",
       "\n",
       "    .dataframe thead th {\n",
       "        text-align: right;\n",
       "    }\n",
       "</style>\n",
       "<table border=\"1\" class=\"dataframe\">\n",
       "  <thead>\n",
       "    <tr style=\"text-align: right;\">\n",
       "      <th></th>\n",
       "      <th>Transaction_date</th>\n",
       "      <th>Gender</th>\n",
       "      <th>Age</th>\n",
       "      <th>Marital_status</th>\n",
       "      <th>Employees_status</th>\n",
       "      <th>Amount_spent</th>\n",
       "    </tr>\n",
       "    <tr>\n",
       "      <th>Segment</th>\n",
       "      <th></th>\n",
       "      <th></th>\n",
       "      <th></th>\n",
       "      <th></th>\n",
       "      <th></th>\n",
       "      <th></th>\n",
       "    </tr>\n",
       "  </thead>\n",
       "  <tbody>\n",
       "    <tr>\n",
       "      <th>Basic</th>\n",
       "      <td>516</td>\n",
       "      <td>509</td>\n",
       "      <td>507</td>\n",
       "      <td>516</td>\n",
       "      <td>510</td>\n",
       "      <td>469</td>\n",
       "    </tr>\n",
       "    <tr>\n",
       "      <th>Gold</th>\n",
       "      <td>118</td>\n",
       "      <td>115</td>\n",
       "      <td>116</td>\n",
       "      <td>118</td>\n",
       "      <td>116</td>\n",
       "      <td>102</td>\n",
       "    </tr>\n",
       "    <tr>\n",
       "      <th>Missing</th>\n",
       "      <td>80</td>\n",
       "      <td>78</td>\n",
       "      <td>79</td>\n",
       "      <td>80</td>\n",
       "      <td>80</td>\n",
       "      <td>74</td>\n",
       "    </tr>\n",
       "    <tr>\n",
       "      <th>Platinum</th>\n",
       "      <td>188</td>\n",
       "      <td>184</td>\n",
       "      <td>187</td>\n",
       "      <td>188</td>\n",
       "      <td>186</td>\n",
       "      <td>162</td>\n",
       "    </tr>\n",
       "    <tr>\n",
       "      <th>Silver</th>\n",
       "      <td>204</td>\n",
       "      <td>200</td>\n",
       "      <td>201</td>\n",
       "      <td>204</td>\n",
       "      <td>202</td>\n",
       "      <td>183</td>\n",
       "    </tr>\n",
       "  </tbody>\n",
       "</table>\n",
       "</div>"
      ],
      "text/plain": [
       "          Transaction_date  Gender  Age  Marital_status  Employees_status  \\\n",
       "Segment                                                                     \n",
       "Basic                  516     509  507             516               510   \n",
       "Gold                   118     115  116             118               116   \n",
       "Missing                 80      78   79              80                80   \n",
       "Platinum               188     184  187             188               186   \n",
       "Silver                 204     200  201             204               202   \n",
       "\n",
       "          Amount_spent  \n",
       "Segment                 \n",
       "Basic              469  \n",
       "Gold               102  \n",
       "Missing             74  \n",
       "Platinum           162  \n",
       "Silver             183  "
      ]
     },
     "execution_count": 44,
     "metadata": {},
     "output_type": "execute_result"
    }
   ],
   "source": [
    "# 2019년 등급별 합\n",
    "ci19 = cdi2019.groupby('Segment').count()\n",
    "ci19"
   ]
  },
  {
   "cell_type": "code",
   "execution_count": 45,
   "metadata": {},
   "outputs": [
    {
     "data": {
      "text/plain": [
       "<BarContainer object of 5 artists>"
      ]
     },
     "execution_count": 45,
     "metadata": {},
     "output_type": "execute_result"
    },
    {
     "data": {
      "image/png": "[encoded data removed]",
      "text/plain": [
       "<Figure size 432x288 with 1 Axes>"
      ]
     },
     "metadata": {
      "needs_background": "light"
     },
     "output_type": "display_data"
    }
   ],
   "source": [
    "# 2019년 등급별 구매율\n",
    "x = ['Basic', 'Gold', 'Missing', 'Platinum', 'Silver']\n",
    "plt.bar(x, ci19['Transaction_date'],color=['r', 'gold', 'g', 'b', 'silver'])"
   ]
  },
  {
   "cell_type": "code",
   "execution_count": 46,
   "metadata": {},
   "outputs": [
    {
     "data": {
      "text/plain": [
       "([<matplotlib.patches.Wedge at 0x130aee250>,\n",
       "  <matplotlib.patches.Wedge at 0x130aee970>,\n",
       "  <matplotlib.patches.Wedge at 0x130af90d0>,\n",
       "  <matplotlib.patches.Wedge at 0x130af97f0>,\n",
       "  <matplotlib.patches.Wedge at 0x130af9f10>],\n",
       " [Text(-1.093930461424318, 0.11539560463024164, 'Basic'),\n",
       "  Text(0.13712259428309917, -1.0914198981771739, 'Gold'),\n",
       "  Text(0.6979836054621852, -0.850187559604355, 'Missing'),\n",
       "  Text(1.091805003284741, -0.1340217698823845, 'Platinum'),\n",
       "  Text(0.602331130782529, 0.9204331637279484, 'Silver')],\n",
       " [Text(-0.5966893425950824, 0.06294305707104088, '46.7%'),\n",
       "  Text(0.07479414233623591, -0.5953199444602766, '10.7%'),\n",
       "  Text(0.38071833025210094, -0.4637386688751027, '7.2%'),\n",
       "  Text(0.5955300017916769, -0.07310278357220973, '17.0%'),\n",
       "  Text(0.3285442531541067, 0.5020544529425173, '18.4%')])"
      ]
     },
     "execution_count": 46,
     "metadata": {},
     "output_type": "execute_result"
    },
    {
     "data": {
      "image/png": "[encoded data removed]",
      "text/plain": [
       "<Figure size 576x576 with 1 Axes>"
      ]
     },
     "metadata": {},
     "output_type": "display_data"
    }
   ],
   "source": [
    "labels = ['Basic', 'Gold', 'Missing', 'Platinum', 'Silver']\n",
    "fig = plt.figure(figsize=(8,8)) # 배경 생성\n",
    "fig.set_facecolor('white') # 배경색 하얀색으로 설정\n",
    "plt.pie(ci19['Transaction_date'], startangle=90, labels=labels, autopct=\"%.1f%%\", colors=['r', 'gold', 'g', 'b', 'silver'])"
   ]
  },
  {
   "cell_type": "code",
   "execution_count": 47,
   "metadata": {},
   "outputs": [
    {
     "data": {
      "text/html": [
       "<div>\n",
       "<style scoped>\n",
       "    .dataframe tbody tr th:only-of-type {\n",
       "        vertical-align: middle;\n",
       "    }\n",
       "\n",
       "    .dataframe tbody tr th {\n",
       "        vertical-align: top;\n",
       "    }\n",
       "\n",
       "    .dataframe thead th {\n",
       "        text-align: right;\n",
       "    }\n",
       "</style>\n",
       "<table border=\"1\" class=\"dataframe\">\n",
       "  <thead>\n",
       "    <tr style=\"text-align: right;\">\n",
       "      <th></th>\n",
       "      <th>Transaction_date</th>\n",
       "      <th>Gender</th>\n",
       "      <th>Age</th>\n",
       "      <th>Marital_status</th>\n",
       "      <th>Employees_status</th>\n",
       "      <th>Amount_spent</th>\n",
       "    </tr>\n",
       "    <tr>\n",
       "      <th>Segment</th>\n",
       "      <th></th>\n",
       "      <th></th>\n",
       "      <th></th>\n",
       "      <th></th>\n",
       "      <th></th>\n",
       "      <th></th>\n",
       "    </tr>\n",
       "  </thead>\n",
       "  <tbody>\n",
       "    <tr>\n",
       "      <th>Basic</th>\n",
       "      <td>461</td>\n",
       "      <td>457</td>\n",
       "      <td>453</td>\n",
       "      <td>461</td>\n",
       "      <td>456</td>\n",
       "      <td>423</td>\n",
       "    </tr>\n",
       "    <tr>\n",
       "      <th>Gold</th>\n",
       "      <td>97</td>\n",
       "      <td>97</td>\n",
       "      <td>95</td>\n",
       "      <td>97</td>\n",
       "      <td>95</td>\n",
       "      <td>89</td>\n",
       "    </tr>\n",
       "    <tr>\n",
       "      <th>Missing</th>\n",
       "      <td>90</td>\n",
       "      <td>90</td>\n",
       "      <td>88</td>\n",
       "      <td>90</td>\n",
       "      <td>89</td>\n",
       "      <td>84</td>\n",
       "    </tr>\n",
       "    <tr>\n",
       "      <th>Platinum</th>\n",
       "      <td>202</td>\n",
       "      <td>201</td>\n",
       "      <td>198</td>\n",
       "      <td>202</td>\n",
       "      <td>201</td>\n",
       "      <td>183</td>\n",
       "    </tr>\n",
       "    <tr>\n",
       "      <th>Silver</th>\n",
       "      <td>202</td>\n",
       "      <td>201</td>\n",
       "      <td>197</td>\n",
       "      <td>202</td>\n",
       "      <td>202</td>\n",
       "      <td>179</td>\n",
       "    </tr>\n",
       "  </tbody>\n",
       "</table>\n",
       "</div>"
      ],
      "text/plain": [
       "          Transaction_date  Gender  Age  Marital_status  Employees_status  \\\n",
       "Segment                                                                     \n",
       "Basic                  461     457  453             461               456   \n",
       "Gold                    97      97   95              97                95   \n",
       "Missing                 90      90   88              90                89   \n",
       "Platinum               202     201  198             202               201   \n",
       "Silver                 202     201  197             202               202   \n",
       "\n",
       "          Amount_spent  \n",
       "Segment                 \n",
       "Basic              423  \n",
       "Gold                89  \n",
       "Missing             84  \n",
       "Platinum           183  \n",
       "Silver             179  "
      ]
     },
     "execution_count": 47,
     "metadata": {},
     "output_type": "execute_result"
    }
   ],
   "source": [
    "# 2020년 등급별 합\n",
    "ci20 = cdi2020.groupby('Segment').count()\n",
    "ci20"
   ]
  },
  {
   "cell_type": "code",
   "execution_count": 48,
   "metadata": {},
   "outputs": [
    {
     "data": {
      "text/plain": [
       "<BarContainer object of 5 artists>"
      ]
     },
     "execution_count": 48,
     "metadata": {},
     "output_type": "execute_result"
    },
    {
     "data": {
      "image/png": "[encoded data removed]",
      "text/plain": [
       "<Figure size 432x288 with 1 Axes>"
      ]
     },
     "metadata": {
      "needs_background": "light"
     },
     "output_type": "display_data"
    }
   ],
   "source": [
    "# 2020년 등급별 구매율\n",
    "x = ['Basic', 'Gold', 'Missing', 'Platinum', 'Silver']\n",
    "plt.bar(x, ci20['Transaction_date'],color=['r', 'gold', 'g', 'b', 'silver'])"
   ]
  },
  {
   "cell_type": "code",
   "execution_count": 49,
   "metadata": {},
   "outputs": [
    {
     "data": {
      "text/plain": [
       "([<matplotlib.patches.Wedge at 0x130ba1e20>,\n",
       "  <matplotlib.patches.Wedge at 0x130bb1580>,\n",
       "  <matplotlib.patches.Wedge at 0x130bb1ca0>,\n",
       "  <matplotlib.patches.Wedge at 0x130bbe400>,\n",
       "  <matplotlib.patches.Wedge at 0x130bbeb20>],\n",
       " [Text(-1.0793417486230181, 0.21218244432423117, 'Basic'),\n",
       "  Text(-0.10822746284497614, -1.094662877915452, 'Gold'),\n",
       "  Text(0.4882354345899216, -0.9857109923353754, 'Missing'),\n",
       "  Text(1.0687576129070484, -0.2603020646349694, 'Platinum'),\n",
       "  Text(0.6240390614004653, 0.9058560867193124, 'Silver')],\n",
       " [Text(-0.5887318628852826, 0.1157358787223079, '43.8%'),\n",
       "  Text(-0.05903316155180516, -0.5970888424993374, '9.2%'),\n",
       "  Text(0.2663102370490481, -0.5376605412738411, '8.6%'),\n",
       "  Text(0.5829586979492991, -0.14198294434634695, '19.2%'),\n",
       "  Text(0.34038494258207197, 0.4941033200287158, '19.2%')])"
      ]
     },
     "execution_count": 49,
     "metadata": {},
     "output_type": "execute_result"
    },
    {
     "data": {
      "image/png": "[encoded data removed]",
      "text/plain": [
       "<Figure size 576x576 with 1 Axes>"
      ]
     },
     "metadata": {},
     "output_type": "display_data"
    }
   ],
   "source": [
    "labels = ['Basic', 'Gold', 'Missing', 'Platinum', 'Silver']\n",
    "fig = plt.figure(figsize=(8,8)) # 배경 생성\n",
    "fig.set_facecolor('white') # 배경색 하얀색으로 설정\n",
    "plt.pie(ci20['Transaction_date'], startangle=90, labels=labels, autopct=\"%.1f%%\", colors=['r', 'gold', 'g', 'b', 'silver'])"
   ]
  }
 ],
 "metadata": {
  "interpreter": {
   "hash": "411d3bffbb2da5dc01979144a89a4ea803cdd674647e01593d05bcbd0122c877"
  },
  "kernelspec": {
   "display_name": "Python 3.9.10 ('base')",
   "language": "python",
   "name": "python3"
  },
  "language_info": {
   "codemirror_mode": {
    "name": "ipython",
    "version": 3
   },
   "file_extension": ".py",
   "mimetype": "text/x-python",
   "name": "python",
   "nbconvert_exporter": "python",
   "pygments_lexer": "ipython3",
   "version": "3.9.10"
  },
  "orig_nbformat": 4
 },
 "nbformat": 4,
 "nbformat_minor": 2
}
